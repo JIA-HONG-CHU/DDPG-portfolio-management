{
 "cells": [
  {
   "cell_type": "code",
   "execution_count": 3,
   "metadata": {},
   "outputs": [],
   "source": [
    "import numpy as np\n",
    "import pandas as pd"
   ]
  },
  {
   "cell_type": "code",
   "execution_count": 4,
   "metadata": {},
   "outputs": [],
   "source": [
    "df = pd.read_csv(\"./data/raw_data.csv\")"
   ]
  },
  {
   "cell_type": "code",
   "execution_count": 5,
   "metadata": {},
   "outputs": [],
   "source": [
    "#Train\n",
    "df = df[df.DATAYM==\"2005-03-01\"]\n",
    "Market_MR = pd.pivot_table(df, values=\"RET1M\",index=['DATAYM'],columns=['BNPNAME'],aggfunc=np.nanmax) #Market Maximum Return"
   ]
  },
  {
   "cell_type": "code",
   "execution_count": 28,
   "metadata": {},
   "outputs": [],
   "source": [
    "ls = list(Market_MR.iloc[0])"
   ]
  },
  {
   "cell_type": "code",
   "execution_count": 32,
   "metadata": {},
   "outputs": [],
   "source": [
    "ls2 = []\n",
    "for j in ls:\n",
    "    for i in range(len(df)):\n",
    "        if df.iloc[i]['RET1M']==j:\n",
    "            ls2.append(df.iloc[i]['PERFORMANCEID'])"
   ]
  },
  {
   "cell_type": "code",
   "execution_count": 38,
   "metadata": {},
   "outputs": [
    {
     "name": "stdout",
     "output_type": "stream",
     "text": [
      "0P0000YSOP\n",
      "0P00000BUK\n",
      "0P00006AEP\n",
      "0P00000EYU\n",
      "0P000069JO\n",
      "0P00000CN1\n",
      "0P00002D9U\n",
      "0P00000B1B\n",
      "0P00000B0G\n",
      "0P00000YVC\n",
      "0P00006A9X\n",
      "0P00006AMJ\n",
      "0P00006AHQ\n",
      "0P00000YPI\n",
      "0P00000LYY\n"
     ]
    }
   ],
   "source": [
    "for i in ls2:\n",
    "    print(i)"
   ]
  }
 ],
 "metadata": {
  "kernelspec": {
   "display_name": "Python 3",
   "language": "python",
   "name": "python3"
  },
  "language_info": {
   "codemirror_mode": {
    "name": "ipython",
    "version": 3
   },
   "file_extension": ".py",
   "mimetype": "text/x-python",
   "name": "python",
   "nbconvert_exporter": "python",
   "pygments_lexer": "ipython3",
   "version": "3.7.6"
  }
 },
 "nbformat": 4,
 "nbformat_minor": 4
}
