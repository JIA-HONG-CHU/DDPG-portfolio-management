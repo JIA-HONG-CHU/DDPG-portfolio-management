{
 "cells": [
  {
   "cell_type": "code",
   "execution_count": 557,
   "metadata": {},
   "outputs": [],
   "source": [
    "import numpy as np\n",
    "import pandas as pd\n",
    "\n",
    "def numer_4(txt):\n",
    "    txt = txt.replace(\" \",\",\")\n",
    "    txt = txt.replace(\"\\n\", \"\")\n",
    "    txt = txt.replace(\".\",\"\")\n",
    "    \n",
    "    import json\n",
    "    txt = json.loads(txt)\n",
    "    return txt\n",
    "\n",
    "def numer_40(txt):\n",
    "    txt = txt.replace(\"\\n\",\"\")\n",
    "    txt = txt.replace(\" \",\",\")\n",
    "    for i in range(2,10):\n",
    "        txt = txt.replace(i*\",\",\"\")\n",
    "    txt = txt.replace(\".,\",\",\")\n",
    "    txt = txt[:-2]+\"]\"\n",
    "    \n",
    "    import json\n",
    "    txt = json.loads(txt)\n",
    "    \n",
    "    return txt\n",
    "\n",
    "def numer_400(txt):    \n",
    "    txt = txt.replace(\"\\n\",\"\")\n",
    "    txt = txt.replace(\" \",\",\")\n",
    "    for i in range(3,10):\n",
    "        txt = txt.replace(i*\",\",\"\")\n",
    "    txt = txt[:-2] + \"]\"\n",
    "    txt = txt.replace(\".,\",\",\")\n",
    "    \n",
    "    txt = json.loads(txt)\n",
    "    return(txt)\n",
    "\n",
    "def numer_4000(txt):\n",
    "    txt = txt.replace(\" \", \",\").replace(\"\\n\",\"\")\n",
    "    for i in range(2,10):\n",
    "        txt = txt.replace(i*\",\",\"\")\n",
    "    txt = txt.replace(\"0.0\",\"0,0\").replace(\".0\",\",0\").replace(\".,]\",\"]\")\n",
    "    txt = txt.replace(\".,\",\",\")\n",
    "    \n",
    "    import json\n",
    "    txt = json.loads(txt)\n",
    "    \n",
    "    return(txt)\n",
    "\n",
    "df = pd.read_csv(\"df_env_infos.csv\", index_col=[0])\n",
    "for i in range(len(df[\"weights\"])):\n",
    "    try:\n",
    "        df[\"weights\"].loc[i] = numer(df[\"weights\"].loc[i])\n",
    "    except:\n",
    "        try:\n",
    "            df[\"weights\"].loc[i] = numer_4(df[\"weights\"].loc[i])\n",
    "        except:\n",
    "            try:\n",
    "                df[\"weights\"].loc[i] = numer_40(df[\"weights\"].loc[i])\n",
    "            except:\n",
    "                try:\n",
    "                    df[\"weights\"].loc[i] = numer_400(df[\"weights\"].loc[i])\n",
    "                except:\n",
    "                    try:\n",
    "                        df[\"weights\"].loc[i] = numer_4000(df[\"weights\"].loc[i])\n",
    "                    except:\n",
    "                        print(i)\n",
    "\n",
    "\n"
   ]
  },
  {
   "cell_type": "code",
   "execution_count": null,
   "metadata": {},
   "outputs": [],
   "source": [
    "All_weights =  df[\"weights\"][:133]\n",
    "stocks = pd.read_csv(\"Stocks_for_each_mkt.csv\", index_col = [0])"
   ]
  },
  {
   "cell_type": "code",
   "execution_count": null,
   "metadata": {},
   "outputs": [],
   "source": [
    "stocks.head()"
   ]
  },
  {
   "cell_type": "code",
   "execution_count": null,
   "metadata": {},
   "outputs": [],
   "source": [
    "long = stocks.iloc[:,1:]+1"
   ]
  },
  {
   "cell_type": "code",
   "execution_count": null,
   "metadata": {},
   "outputs": [],
   "source": [
    "short = -stocks.iloc[:,1:] +1"
   ]
  },
  {
   "cell_type": "code",
   "execution_count": null,
   "metadata": {},
   "outputs": [],
   "source": [
    "stocks = pd.concat([ stocks.iloc[:,0], long, short ], axis = 1)"
   ]
  },
  {
   "cell_type": "code",
   "execution_count": null,
   "metadata": {},
   "outputs": [],
   "source": [
    "t"
   ]
  },
  {
   "cell_type": "code",
   "execution_count": null,
   "metadata": {},
   "outputs": [],
   "source": [
    "port_v = []\n",
    "for i in range(133):\n",
    "    t = [1]+list(stocks.iloc[7+i][1:].values)\n",
    "    t = np.array(t)\n",
    "    w0 = All_weights[i]\n",
    "    w0 = np.array(w0)\n",
    "    \n",
    "    \n",
    "    t = np.asarray(t, dtype='float32')\n",
    "    w0 = np.asarray(w0, dtype='float32')\n",
    "    \n",
    "    p = np.dot(w0,t)\n",
    "    port_v.append(p)\n",
    "\n",
    "M_v = []\n",
    "for i in range(133):\n",
    "    t = [1]+list(stocks.iloc[7+i][1:].values)\n",
    "    t = np.array(t)\n",
    "    w0 = M_v_weights\n",
    "    w0 = np.array(w0)\n",
    "    \n",
    "    \n",
    "    t = np.asarray(t, dtype='float32')\n",
    "    w0 = np.asarray(w0, dtype='float32')\n",
    "    \n",
    "    p = np.dot(w0,t)\n",
    "    M_v.append(p)"
   ]
  },
  {
   "cell_type": "code",
   "execution_count": null,
   "metadata": {},
   "outputs": [],
   "source": [
    "np.cumprod(port_v)"
   ]
  },
  {
   "cell_type": "code",
   "execution_count": null,
   "metadata": {},
   "outputs": [],
   "source": []
  },
  {
   "cell_type": "code",
   "execution_count": null,
   "metadata": {},
   "outputs": [],
   "source": []
  }
 ],
 "metadata": {
  "kernelspec": {
   "display_name": "Python 3",
   "language": "python",
   "name": "python3"
  },
  "language_info": {
   "codemirror_mode": {
    "name": "ipython",
    "version": 3
   },
   "file_extension": ".py",
   "mimetype": "text/x-python",
   "name": "python",
   "nbconvert_exporter": "python",
   "pygments_lexer": "ipython3",
   "version": "3.7.4"
  }
 },
 "nbformat": 4,
 "nbformat_minor": 4
}
