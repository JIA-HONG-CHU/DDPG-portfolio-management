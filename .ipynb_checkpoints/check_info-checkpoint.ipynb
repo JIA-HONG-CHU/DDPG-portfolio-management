{
 "cells": [
  {
   "cell_type": "code",
   "execution_count": 148,
   "metadata": {},
   "outputs": [],
   "source": [
    "import pandas as pd\n",
    "import numpy as np"
   ]
  },
  {
   "cell_type": "code",
   "execution_count": 292,
   "metadata": {},
   "outputs": [],
   "source": [
    "df = pd.read_csv(\"df_env_info.csv\", index_col=[0])"
   ]
  },
  {
   "cell_type": "code",
   "execution_count": 199,
   "metadata": {},
   "outputs": [
    {
     "data": {
      "text/html": [
       "<div>\n",
       "<style scoped>\n",
       "    .dataframe tbody tr th:only-of-type {\n",
       "        vertical-align: middle;\n",
       "    }\n",
       "\n",
       "    .dataframe tbody tr th {\n",
       "        vertical-align: top;\n",
       "    }\n",
       "\n",
       "    .dataframe thead th {\n",
       "        text-align: right;\n",
       "    }\n",
       "</style>\n",
       "<table border=\"1\" class=\"dataframe\">\n",
       "  <thead>\n",
       "    <tr style=\"text-align: right;\">\n",
       "      <th></th>\n",
       "      <th>reward</th>\n",
       "      <th>log_return</th>\n",
       "      <th>portfolio_value</th>\n",
       "      <th>return</th>\n",
       "      <th>rate_of_return</th>\n",
       "      <th>weights_mean</th>\n",
       "      <th>weights_std</th>\n",
       "      <th>weights</th>\n",
       "      <th>cost</th>\n",
       "      <th>long_position</th>\n",
       "      <th>short_position</th>\n",
       "      <th>price_change</th>\n",
       "      <th>market_value</th>\n",
       "      <th>date</th>\n",
       "      <th>steps</th>\n",
       "      <th>next_obs</th>\n",
       "      <th>DataTime</th>\n",
       "    </tr>\n",
       "  </thead>\n",
       "  <tbody>\n",
       "    <tr>\n",
       "      <th>0</th>\n",
       "      <td>0.000000</td>\n",
       "      <td>0.000000</td>\n",
       "      <td>1.000000</td>\n",
       "      <td>1.020484</td>\n",
       "      <td>0.000000</td>\n",
       "      <td>0.032258</td>\n",
       "      <td>0.176595</td>\n",
       "      <td>[0.000e+00 0.000e+00 0.000e+00 9.995e-01 0.000...</td>\n",
       "      <td>0.0</td>\n",
       "      <td>1.000000</td>\n",
       "      <td>0.000000e+00</td>\n",
       "      <td>[1.         1.00216207 1.0571946  1.0227945  1...</td>\n",
       "      <td>1.020484</td>\n",
       "      <td>2005-03-01</td>\n",
       "      <td>1.0</td>\n",
       "      <td>[[[1.         1.         1.         1.        ...</td>\n",
       "      <td>2005-03-01</td>\n",
       "    </tr>\n",
       "    <tr>\n",
       "      <th>1</th>\n",
       "      <td>-0.083178</td>\n",
       "      <td>-0.083178</td>\n",
       "      <td>0.920187</td>\n",
       "      <td>0.972461</td>\n",
       "      <td>-0.079813</td>\n",
       "      <td>0.032258</td>\n",
       "      <td>0.176643</td>\n",
       "      <td>[0.000e+00 0.000e+00 0.000e+00 9.998e-01 0.000...</td>\n",
       "      <td>0.0</td>\n",
       "      <td>0.920187</td>\n",
       "      <td>2.529658e-11</td>\n",
       "      <td>[1.         0.9867775  0.96640816 0.92016075 0...</td>\n",
       "      <td>0.992381</td>\n",
       "      <td>2005-03-01</td>\n",
       "      <td>2.0</td>\n",
       "      <td>[[[1.         1.         1.         1.        ...</td>\n",
       "      <td>2005-04-01</td>\n",
       "    </tr>\n",
       "    <tr>\n",
       "      <th>2</th>\n",
       "      <td>0.085401</td>\n",
       "      <td>0.085401</td>\n",
       "      <td>1.002225</td>\n",
       "      <td>1.027102</td>\n",
       "      <td>0.089153</td>\n",
       "      <td>0.032258</td>\n",
       "      <td>0.176664</td>\n",
       "      <td>[0.000e+00 0.000e+00 0.000e+00 9.999e-01 0.000...</td>\n",
       "      <td>0.0</td>\n",
       "      <td>1.002225</td>\n",
       "      <td>9.331857e-12</td>\n",
       "      <td>[1.         1.00905055 1.04609173 1.0891625  1...</td>\n",
       "      <td>1.019277</td>\n",
       "      <td>2005-03-01</td>\n",
       "      <td>3.0</td>\n",
       "      <td>[[[ 1.00000000e+00  1.00000000e+00  1.00000000...</td>\n",
       "      <td>2005-05-01</td>\n",
       "    </tr>\n",
       "    <tr>\n",
       "      <th>3</th>\n",
       "      <td>0.083327</td>\n",
       "      <td>0.083327</td>\n",
       "      <td>1.089315</td>\n",
       "      <td>1.029437</td>\n",
       "      <td>0.086897</td>\n",
       "      <td>0.032258</td>\n",
       "      <td>0.176674</td>\n",
       "      <td>[0.000e+00 0.000e+00 0.000e+00 9.999e-01 0.000...</td>\n",
       "      <td>0.0</td>\n",
       "      <td>1.089315</td>\n",
       "      <td>4.730843e-12</td>\n",
       "      <td>[1.         1.01729683 1.07116863 1.08690678 1...</td>\n",
       "      <td>1.049281</td>\n",
       "      <td>2005-03-01</td>\n",
       "      <td>4.0</td>\n",
       "      <td>[[[1.00000000e+00 1.00000000e+00 1.00000000e+0...</td>\n",
       "      <td>2005-06-01</td>\n",
       "    </tr>\n",
       "    <tr>\n",
       "      <th>4</th>\n",
       "      <td>0.054389</td>\n",
       "      <td>0.054389</td>\n",
       "      <td>1.150202</td>\n",
       "      <td>1.045142</td>\n",
       "      <td>0.055895</td>\n",
       "      <td>0.032258</td>\n",
       "      <td>0.176678</td>\n",
       "      <td>[0. 0. 0. 1. 0. 0. 0. 0. 0. 0. 0. 0. 0. 0. 0. ...</td>\n",
       "      <td>0.0</td>\n",
       "      <td>1.150202</td>\n",
       "      <td>3.127626e-12</td>\n",
       "      <td>[1.         1.02239295 1.06448956 1.05589565 1...</td>\n",
       "      <td>1.096648</td>\n",
       "      <td>2005-03-01</td>\n",
       "      <td>5.0</td>\n",
       "      <td>[[[ 1.          1.          1.          1.    ...</td>\n",
       "      <td>2005-07-01</td>\n",
       "    </tr>\n",
       "  </tbody>\n",
       "</table>\n",
       "</div>"
      ],
      "text/plain": [
       "     reward  log_return  portfolio_value    return  rate_of_return  \\\n",
       "0  0.000000    0.000000         1.000000  1.020484        0.000000   \n",
       "1 -0.083178   -0.083178         0.920187  0.972461       -0.079813   \n",
       "2  0.085401    0.085401         1.002225  1.027102        0.089153   \n",
       "3  0.083327    0.083327         1.089315  1.029437        0.086897   \n",
       "4  0.054389    0.054389         1.150202  1.045142        0.055895   \n",
       "\n",
       "   weights_mean  weights_std  \\\n",
       "0      0.032258     0.176595   \n",
       "1      0.032258     0.176643   \n",
       "2      0.032258     0.176664   \n",
       "3      0.032258     0.176674   \n",
       "4      0.032258     0.176678   \n",
       "\n",
       "                                             weights  cost  long_position  \\\n",
       "0  [0.000e+00 0.000e+00 0.000e+00 9.995e-01 0.000...   0.0       1.000000   \n",
       "1  [0.000e+00 0.000e+00 0.000e+00 9.998e-01 0.000...   0.0       0.920187   \n",
       "2  [0.000e+00 0.000e+00 0.000e+00 9.999e-01 0.000...   0.0       1.002225   \n",
       "3  [0.000e+00 0.000e+00 0.000e+00 9.999e-01 0.000...   0.0       1.089315   \n",
       "4  [0. 0. 0. 1. 0. 0. 0. 0. 0. 0. 0. 0. 0. 0. 0. ...   0.0       1.150202   \n",
       "\n",
       "   short_position                                       price_change  \\\n",
       "0    0.000000e+00  [1.         1.00216207 1.0571946  1.0227945  1...   \n",
       "1    2.529658e-11  [1.         0.9867775  0.96640816 0.92016075 0...   \n",
       "2    9.331857e-12  [1.         1.00905055 1.04609173 1.0891625  1...   \n",
       "3    4.730843e-12  [1.         1.01729683 1.07116863 1.08690678 1...   \n",
       "4    3.127626e-12  [1.         1.02239295 1.06448956 1.05589565 1...   \n",
       "\n",
       "   market_value        date  steps  \\\n",
       "0      1.020484  2005-03-01    1.0   \n",
       "1      0.992381  2005-03-01    2.0   \n",
       "2      1.019277  2005-03-01    3.0   \n",
       "3      1.049281  2005-03-01    4.0   \n",
       "4      1.096648  2005-03-01    5.0   \n",
       "\n",
       "                                            next_obs    DataTime  \n",
       "0  [[[1.         1.         1.         1.        ...  2005-03-01  \n",
       "1  [[[1.         1.         1.         1.        ...  2005-04-01  \n",
       "2  [[[ 1.00000000e+00  1.00000000e+00  1.00000000...  2005-05-01  \n",
       "3  [[[1.00000000e+00 1.00000000e+00 1.00000000e+0...  2005-06-01  \n",
       "4  [[[ 1.          1.          1.          1.    ...  2005-07-01  "
      ]
     },
     "execution_count": 199,
     "metadata": {},
     "output_type": "execute_result"
    }
   ],
   "source": [
    "df.head()"
   ]
  },
  {
   "cell_type": "code",
   "execution_count": 200,
   "metadata": {},
   "outputs": [
    {
     "data": {
      "text/plain": [
       "'[0.000e+00 0.000e+00 0.000e+00 9.995e-01 0.000e+00 0.000e+00 0.000e+00\\n 0.000e+00 0.000e+00 0.000e+00 0.000e+00 0.000e+00 0.000e+00 0.000e+00\\n 0.000e+00 5.000e-04 0.000e+00 0.000e+00 0.000e+00 0.000e+00 0.000e+00\\n 0.000e+00 0.000e+00 0.000e+00 0.000e+00 0.000e+00 0.000e+00 0.000e+00\\n 0.000e+00 0.000e+00 0.000e+00]'"
      ]
     },
     "execution_count": 200,
     "metadata": {},
     "output_type": "execute_result"
    }
   ],
   "source": [
    "df[\"weights\"].loc[0] ##str?????"
   ]
  },
  {
   "cell_type": "code",
   "execution_count": 201,
   "metadata": {},
   "outputs": [
    {
     "name": "stdout",
     "output_type": "stream",
     "text": [
      "reward <class 'numpy.float64'>\n",
      "log_return <class 'numpy.float64'>\n",
      "portfolio_value <class 'numpy.float64'>\n",
      "return <class 'numpy.float64'>\n",
      "rate_of_return <class 'numpy.float64'>\n",
      "weights_mean <class 'numpy.float64'>\n",
      "weights_std <class 'numpy.float64'>\n",
      "weights <class 'str'>\n",
      "cost <class 'numpy.float64'>\n",
      "long_position <class 'numpy.float64'>\n",
      "short_position <class 'numpy.float64'>\n",
      "price_change <class 'str'>\n",
      "market_value <class 'numpy.float64'>\n",
      "date <class 'str'>\n",
      "steps <class 'numpy.float64'>\n",
      "next_obs <class 'str'>\n",
      "DataTime <class 'str'>\n"
     ]
    }
   ],
   "source": [
    "for i in range(len(df.columns)):\n",
    "    print(df.columns[i], type(df[df.columns[i]][0]))"
   ]
  },
  {
   "cell_type": "code",
   "execution_count": 202,
   "metadata": {},
   "outputs": [],
   "source": [
    "df[\"weights\"] = df[\"weights\"].fillna(0)"
   ]
  },
  {
   "cell_type": "code",
   "execution_count": 203,
   "metadata": {},
   "outputs": [
    {
     "data": {
      "text/plain": [
       "0    [0.000e+00 0.000e+00 0.000e+00 9.995e-01 0.000...\n",
       "1    [0.000e+00 0.000e+00 0.000e+00 9.998e-01 0.000...\n",
       "2    [0.000e+00 0.000e+00 0.000e+00 9.999e-01 0.000...\n",
       "3    [0.000e+00 0.000e+00 0.000e+00 9.999e-01 0.000...\n",
       "Name: weights, dtype: object"
      ]
     },
     "execution_count": 203,
     "metadata": {},
     "output_type": "execute_result"
    }
   ],
   "source": [
    "df[\"weights\"][0:4]"
   ]
  },
  {
   "cell_type": "code",
   "execution_count": 204,
   "metadata": {},
   "outputs": [],
   "source": [
    "def numer(txt):\n",
    "    txt = txt.replace(\" \", \",\")\n",
    "    txt = txt.replace(\"\\n\", \" \")\n",
    "    \n",
    "    import json\n",
    "    txt = json.loads(txt)\n",
    "    \n",
    "    return txt"
   ]
  },
  {
   "cell_type": "code",
   "execution_count": 205,
   "metadata": {},
   "outputs": [],
   "source": [
    "for i in range(4):\n",
    "    df[\"weights\"].loc[i] = numer(df[\"weights\"].loc[i])"
   ]
  },
  {
   "cell_type": "code",
   "execution_count": 206,
   "metadata": {},
   "outputs": [
    {
     "data": {
      "text/plain": [
       "list"
      ]
     },
     "execution_count": 206,
     "metadata": {},
     "output_type": "execute_result"
    }
   ],
   "source": [
    "type(df[\"weights\"][0:4][0])"
   ]
  },
  {
   "cell_type": "code",
   "execution_count": 207,
   "metadata": {},
   "outputs": [
    {
     "data": {
      "text/plain": [
       "4    [0. 0. 0. 1. 0. 0. 0. 0. 0. 0. 0. 0. 0. 0. 0. ...\n",
       "5    [0. 0. 0. 1. 0. 0. 0. 0. 0. 0. 0. 0. 0. 0. 0. ...\n",
       "6    [0. 0. 0. 1. 0. 0. 0. 0. 0. 0. 0. 0. 0. 0. 0. ...\n",
       "7    [0. 0. 0. 1. 0. 0. 0. 0. 0. 0. 0. 0. 0. 0. 0. ...\n",
       "8    [0. 0. 0. 1. 0. 0. 0. 0. 0. 0. 0. 0. 0. 0. 0. ...\n",
       "Name: weights, dtype: object"
      ]
     },
     "execution_count": 207,
     "metadata": {},
     "output_type": "execute_result"
    }
   ],
   "source": [
    "df[\"weights\"][4:40].head()"
   ]
  },
  {
   "cell_type": "markdown",
   "metadata": {},
   "source": [
    "### "
   ]
  },
  {
   "cell_type": "code",
   "execution_count": 208,
   "metadata": {},
   "outputs": [
    {
     "data": {
      "text/plain": [
       "'[0.,0.,0.,1.,0.,0.,0.,0.,0.,0.,0.,0.,0.,0.,0.,0.,0.,0.,0.,0.,0.,0.,0.,0.\\n,0.,0.,0.,0.,0.,0.,0.]'"
      ]
     },
     "execution_count": 208,
     "metadata": {},
     "output_type": "execute_result"
    }
   ],
   "source": [
    "df[\"weights\"][4].replace(\" \", \",\")"
   ]
  },
  {
   "cell_type": "code",
   "execution_count": 209,
   "metadata": {},
   "outputs": [],
   "source": [
    "def numer_4(txt):\n",
    "    txt = txt.replace(\" \",\",\")\n",
    "    txt = txt.replace(\"\\n\", \"\")\n",
    "    txt = txt.replace(\".\",\"\")\n",
    "    \n",
    "    import json\n",
    "    txt = json.loads(txt)\n",
    "    return txt"
   ]
  },
  {
   "cell_type": "code",
   "execution_count": 211,
   "metadata": {},
   "outputs": [],
   "source": [
    "for i in range(4,40):\n",
    "    df[\"weights\"].loc[i] = numer_4(df[\"weights\"].loc[i])"
   ]
  },
  {
   "cell_type": "code",
   "execution_count": 256,
   "metadata": {},
   "outputs": [],
   "source": [
    "def numer_40(txt):\n",
    "    txt = txt.replace(\"\\n\",\"\")\n",
    "    txt = txt.replace(\" \",\",\")\n",
    "    for i in range(2,10):\n",
    "        txt = txt.replace(i*\",\",\"\")\n",
    "    txt = txt.replace(\".,\",\",\")\n",
    "    txt = txt[:-2]+\"]\"\n",
    "    \n",
    "    import json\n",
    "    txt = json.loads(txt)\n",
    "    \n",
    "    return txt"
   ]
  },
  {
   "cell_type": "code",
   "execution_count": 259,
   "metadata": {},
   "outputs": [
    {
     "data": {
      "text/plain": [
       "39    [0, 0, 0, 0, 0, 0, 0, 0, 0, 0, 0, 0, 0, 0, 0, ...\n",
       "40    [0.     0.     0.     0.     0.     0.     0. ...\n",
       "41    [0.     0.     0.     0.0027 0.     0.     0. ...\n",
       "42    [0. 0. 0. 1. 0. 0. 0. 0. 0. 0. 0. 0. 0. 0. 0. ...\n",
       "43    [0.000e+00 0.000e+00 0.000e+00 9.999e-01 0.000...\n",
       "44    [0.000e+00 0.000e+00 0.000e+00 9.997e-01 0.000...\n",
       "Name: weights, dtype: object"
      ]
     },
     "execution_count": 259,
     "metadata": {},
     "output_type": "execute_result"
    }
   ],
   "source": [
    "df[\"weights\"][39:45]"
   ]
  },
  {
   "cell_type": "code",
   "execution_count": 260,
   "metadata": {},
   "outputs": [
    {
     "name": "stderr",
     "output_type": "stream",
     "text": [
      "/opt/conda/lib/python3.7/site-packages/pandas/core/indexing.py:202: SettingWithCopyWarning: \n",
      "A value is trying to be set on a copy of a slice from a DataFrame\n",
      "\n",
      "See the caveats in the documentation: http://pandas.pydata.org/pandas-docs/stable/user_guide/indexing.html#returning-a-view-versus-a-copy\n",
      "  self._setitem_with_indexer(indexer, value)\n"
     ]
    }
   ],
   "source": [
    "for i in range(2):\n",
    "    df[\"weights\"].loc[40+i] = numer_40(df[\"weights\"].loc[40+i])\n"
   ]
  },
  {
   "cell_type": "code",
   "execution_count": 262,
   "metadata": {},
   "outputs": [
    {
     "data": {
      "text/plain": [
       "40    [0, 0, 0, 0, 0, 0, 0, 0, 0, 0, 0, 0, 0, 0, 0, ...\n",
       "41    [0, 0, 0, 0.0027, 0, 0, 0, 0, 0, 0, 0, 0, 0, 0...\n",
       "42    [0. 0. 0. 1. 0. 0. 0. 0. 0. 0. 0. 0. 0. 0. 0. ...\n",
       "43    [0.000e+00 0.000e+00 0.000e+00 9.999e-01 0.000...\n",
       "44    [0.000e+00 0.000e+00 0.000e+00 9.997e-01 0.000...\n",
       "Name: weights, dtype: object"
      ]
     },
     "execution_count": 262,
     "metadata": {},
     "output_type": "execute_result"
    }
   ],
   "source": [
    "df[\"weights\"][40:45]"
   ]
  },
  {
   "cell_type": "code",
   "execution_count": 266,
   "metadata": {},
   "outputs": [],
   "source": [
    "df[\"weights\"].loc[42] = numer_4(df[\"weights\"].loc[42])"
   ]
  },
  {
   "cell_type": "code",
   "execution_count": 272,
   "metadata": {},
   "outputs": [
    {
     "data": {
      "text/plain": [
       "43    [0.000e+00 0.000e+00 0.000e+00 9.999e-01 0.000...\n",
       "44    [0.000e+00 0.000e+00 0.000e+00 9.997e-01 0.000...\n",
       "45    [0.000e+00 0.000e+00 0.000e+00 9.994e-01 0.000...\n",
       "Name: weights, dtype: object"
      ]
     },
     "execution_count": 272,
     "metadata": {},
     "output_type": "execute_result"
    }
   ],
   "source": [
    "df[\"weights\"].loc[43:45]"
   ]
  },
  {
   "cell_type": "code",
   "execution_count": 275,
   "metadata": {},
   "outputs": [],
   "source": [
    "for i in range(3):\n",
    "    df[\"weights\"].loc[43+i] = numer(df[\"weights\"].loc[43+i])"
   ]
  },
  {
   "cell_type": "code",
   "execution_count": 279,
   "metadata": {},
   "outputs": [
    {
     "data": {
      "text/plain": [
       "46    [0, 0, 0, 0.9989, 0, 0, 0, 0, 0, 0, 0, 0, 0, 0...\n",
       "47    [0, 0, 0, 0.9979, 0, 0, 0, 0, 0, 0, 0, 0, 0, 0...\n",
       "48    [0, 0, 0, 0.9965, 0, 0, 0, 0, 0, 0, 0, 0, 0, 0...\n",
       "49    [0.     0.     0.     0.9946 0.     0.     0. ...\n",
       "50    [0.     0.     0.     0.9925 0.     0.     0. ...\n",
       "51    [0.     0.     0.     0.9901 0.     0.     0. ...\n",
       "52    [0.     0.     0.     0.9865 0.     0.     0. ...\n",
       "53    [0.     0.     0.     0.9828 0.     0.     0. ...\n",
       "54    [0.     0.     0.     0.9791 0.     0.     0. ...\n",
       "55    [0.     0.     0.     0.9736 0.     0.     0. ...\n",
       "56    [0.     0.     0.     0.9669 0.     0.     0. ...\n",
       "57    [0.     0.     0.     0.9577 0.     0.     0. ...\n",
       "58    [0.     0.     0.     0.9469 0.     0.     0. ...\n",
       "59    [0.     0.     0.     0.9303 0.     0.     0. ...\n",
       "60    [0.     0.     0.     0.9083 0.     0.     0. ...\n",
       "Name: weights, dtype: object"
      ]
     },
     "execution_count": 279,
     "metadata": {},
     "output_type": "execute_result"
    }
   ],
   "source": [
    "for i in range(3):\n",
    "    df[\"weights\"].loc[46+i] = numer_40(df[\"weights\"].loc[46+i])"
   ]
  },
  {
   "cell_type": "code",
   "execution_count": 281,
   "metadata": {},
   "outputs": [],
   "source": [
    "for i in range(15):\n",
    "    df[\"weights\"].loc[49+i] = numer_40(df[\"weights\"].loc[49+i])"
   ]
  },
  {
   "cell_type": "code",
   "execution_count": null,
   "metadata": {},
   "outputs": [],
   "source": []
  },
  {
   "cell_type": "code",
   "execution_count": 293,
   "metadata": {},
   "outputs": [
    {
     "ename": "JSONDecodeError",
     "evalue": "Expecting ',' delimiter: line 1 column 5 (char 4)",
     "output_type": "error",
     "traceback": [
      "\u001b[0;31m\u001b[0m",
      "\u001b[0;31mJSONDecodeError\u001b[0mTraceback (most recent call last)",
      "\u001b[0;32m<ipython-input-293-3cb50e71e881>\u001b[0m in \u001b[0;36m<module>\u001b[0;34m\u001b[0m\n\u001b[1;32m      5\u001b[0m         \u001b[0;32mtry\u001b[0m\u001b[0;34m:\u001b[0m\u001b[0;34m\u001b[0m\u001b[0;34m\u001b[0m\u001b[0m\n\u001b[0;32m----> 6\u001b[0;31m             \u001b[0mdf\u001b[0m\u001b[0;34m[\u001b[0m\u001b[0;34m\"weights\"\u001b[0m\u001b[0;34m]\u001b[0m\u001b[0;34m.\u001b[0m\u001b[0mloc\u001b[0m\u001b[0;34m[\u001b[0m\u001b[0mi\u001b[0m\u001b[0;34m]\u001b[0m \u001b[0;34m=\u001b[0m \u001b[0mnumer_4\u001b[0m\u001b[0;34m(\u001b[0m\u001b[0mdf\u001b[0m\u001b[0;34m[\u001b[0m\u001b[0;34m\"weights\"\u001b[0m\u001b[0;34m]\u001b[0m\u001b[0;34m.\u001b[0m\u001b[0mloc\u001b[0m\u001b[0;34m[\u001b[0m\u001b[0mi\u001b[0m\u001b[0;34m]\u001b[0m\u001b[0;34m)\u001b[0m\u001b[0;34m\u001b[0m\u001b[0;34m\u001b[0m\u001b[0m\n\u001b[0m\u001b[1;32m      7\u001b[0m         \u001b[0;32mexcept\u001b[0m\u001b[0;34m:\u001b[0m\u001b[0;34m\u001b[0m\u001b[0;34m\u001b[0m\u001b[0m\n",
      "\u001b[0;32m<ipython-input-209-cadeb692d2c5>\u001b[0m in \u001b[0;36mnumer_4\u001b[0;34m(txt)\u001b[0m\n\u001b[1;32m      6\u001b[0m     \u001b[0;32mimport\u001b[0m \u001b[0mjson\u001b[0m\u001b[0;34m\u001b[0m\u001b[0;34m\u001b[0m\u001b[0m\n\u001b[0;32m----> 7\u001b[0;31m     \u001b[0mtxt\u001b[0m \u001b[0;34m=\u001b[0m \u001b[0mjson\u001b[0m\u001b[0;34m.\u001b[0m\u001b[0mloads\u001b[0m\u001b[0;34m(\u001b[0m\u001b[0mtxt\u001b[0m\u001b[0;34m)\u001b[0m\u001b[0;34m\u001b[0m\u001b[0;34m\u001b[0m\u001b[0m\n\u001b[0m\u001b[1;32m      8\u001b[0m     \u001b[0;32mreturn\u001b[0m \u001b[0mtxt\u001b[0m\u001b[0;34m\u001b[0m\u001b[0;34m\u001b[0m\u001b[0m\n",
      "\u001b[0;32m/opt/conda/lib/python3.7/json/__init__.py\u001b[0m in \u001b[0;36mloads\u001b[0;34m(s, encoding, cls, object_hook, parse_float, parse_int, parse_constant, object_pairs_hook, **kw)\u001b[0m\n\u001b[1;32m    347\u001b[0m             parse_constant is None and object_pairs_hook is None and not kw):\n\u001b[0;32m--> 348\u001b[0;31m         \u001b[0;32mreturn\u001b[0m \u001b[0m_default_decoder\u001b[0m\u001b[0;34m.\u001b[0m\u001b[0mdecode\u001b[0m\u001b[0;34m(\u001b[0m\u001b[0ms\u001b[0m\u001b[0;34m)\u001b[0m\u001b[0;34m\u001b[0m\u001b[0;34m\u001b[0m\u001b[0m\n\u001b[0m\u001b[1;32m    349\u001b[0m     \u001b[0;32mif\u001b[0m \u001b[0mcls\u001b[0m \u001b[0;32mis\u001b[0m \u001b[0;32mNone\u001b[0m\u001b[0;34m:\u001b[0m\u001b[0;34m\u001b[0m\u001b[0;34m\u001b[0m\u001b[0m\n",
      "\u001b[0;32m/opt/conda/lib/python3.7/json/decoder.py\u001b[0m in \u001b[0;36mdecode\u001b[0;34m(self, s, _w)\u001b[0m\n\u001b[1;32m    336\u001b[0m         \"\"\"\n\u001b[0;32m--> 337\u001b[0;31m         \u001b[0mobj\u001b[0m\u001b[0;34m,\u001b[0m \u001b[0mend\u001b[0m \u001b[0;34m=\u001b[0m \u001b[0mself\u001b[0m\u001b[0;34m.\u001b[0m\u001b[0mraw_decode\u001b[0m\u001b[0;34m(\u001b[0m\u001b[0ms\u001b[0m\u001b[0;34m,\u001b[0m \u001b[0midx\u001b[0m\u001b[0;34m=\u001b[0m\u001b[0m_w\u001b[0m\u001b[0;34m(\u001b[0m\u001b[0ms\u001b[0m\u001b[0;34m,\u001b[0m \u001b[0;36m0\u001b[0m\u001b[0;34m)\u001b[0m\u001b[0;34m.\u001b[0m\u001b[0mend\u001b[0m\u001b[0;34m(\u001b[0m\u001b[0;34m)\u001b[0m\u001b[0;34m)\u001b[0m\u001b[0;34m\u001b[0m\u001b[0;34m\u001b[0m\u001b[0m\n\u001b[0m\u001b[1;32m    338\u001b[0m         \u001b[0mend\u001b[0m \u001b[0;34m=\u001b[0m \u001b[0m_w\u001b[0m\u001b[0;34m(\u001b[0m\u001b[0ms\u001b[0m\u001b[0;34m,\u001b[0m \u001b[0mend\u001b[0m\u001b[0;34m)\u001b[0m\u001b[0;34m.\u001b[0m\u001b[0mend\u001b[0m\u001b[0;34m(\u001b[0m\u001b[0;34m)\u001b[0m\u001b[0;34m\u001b[0m\u001b[0;34m\u001b[0m\u001b[0m\n",
      "\u001b[0;32m/opt/conda/lib/python3.7/json/decoder.py\u001b[0m in \u001b[0;36mraw_decode\u001b[0;34m(self, s, idx)\u001b[0m\n\u001b[1;32m    354\u001b[0m         \u001b[0;32mexcept\u001b[0m \u001b[0mStopIteration\u001b[0m \u001b[0;32mas\u001b[0m \u001b[0merr\u001b[0m\u001b[0;34m:\u001b[0m\u001b[0;34m\u001b[0m\u001b[0;34m\u001b[0m\u001b[0m\n\u001b[0;32m--> 355\u001b[0;31m             \u001b[0;32mraise\u001b[0m \u001b[0mJSONDecodeError\u001b[0m\u001b[0;34m(\u001b[0m\u001b[0;34m\"Expecting value\"\u001b[0m\u001b[0;34m,\u001b[0m \u001b[0ms\u001b[0m\u001b[0;34m,\u001b[0m \u001b[0merr\u001b[0m\u001b[0;34m.\u001b[0m\u001b[0mvalue\u001b[0m\u001b[0;34m)\u001b[0m \u001b[0;32mfrom\u001b[0m \u001b[0;32mNone\u001b[0m\u001b[0;34m\u001b[0m\u001b[0;34m\u001b[0m\u001b[0m\n\u001b[0m\u001b[1;32m    356\u001b[0m         \u001b[0;32mreturn\u001b[0m \u001b[0mobj\u001b[0m\u001b[0;34m,\u001b[0m \u001b[0mend\u001b[0m\u001b[0;34m\u001b[0m\u001b[0;34m\u001b[0m\u001b[0m\n",
      "\u001b[0;31mJSONDecodeError\u001b[0m: Expecting value: line 1 column 4 (char 3)",
      "\nDuring handling of the above exception, another exception occurred:\n",
      "\u001b[0;31mJSONDecodeError\u001b[0mTraceback (most recent call last)",
      "\u001b[0;32m<ipython-input-293-3cb50e71e881>\u001b[0m in \u001b[0;36m<module>\u001b[0;34m\u001b[0m\n\u001b[1;32m      6\u001b[0m             \u001b[0mdf\u001b[0m\u001b[0;34m[\u001b[0m\u001b[0;34m\"weights\"\u001b[0m\u001b[0;34m]\u001b[0m\u001b[0;34m.\u001b[0m\u001b[0mloc\u001b[0m\u001b[0;34m[\u001b[0m\u001b[0mi\u001b[0m\u001b[0;34m]\u001b[0m \u001b[0;34m=\u001b[0m \u001b[0mnumer_4\u001b[0m\u001b[0;34m(\u001b[0m\u001b[0mdf\u001b[0m\u001b[0;34m[\u001b[0m\u001b[0;34m\"weights\"\u001b[0m\u001b[0;34m]\u001b[0m\u001b[0;34m.\u001b[0m\u001b[0mloc\u001b[0m\u001b[0;34m[\u001b[0m\u001b[0mi\u001b[0m\u001b[0;34m]\u001b[0m\u001b[0;34m)\u001b[0m\u001b[0;34m\u001b[0m\u001b[0;34m\u001b[0m\u001b[0m\n\u001b[1;32m      7\u001b[0m         \u001b[0;32mexcept\u001b[0m\u001b[0;34m:\u001b[0m\u001b[0;34m\u001b[0m\u001b[0;34m\u001b[0m\u001b[0m\n\u001b[0;32m----> 8\u001b[0;31m             \u001b[0mdf\u001b[0m\u001b[0;34m[\u001b[0m\u001b[0;34m\"weights\"\u001b[0m\u001b[0;34m]\u001b[0m\u001b[0;34m.\u001b[0m\u001b[0mloc\u001b[0m\u001b[0;34m[\u001b[0m\u001b[0mi\u001b[0m\u001b[0;34m]\u001b[0m \u001b[0;34m=\u001b[0m \u001b[0mnumer_40\u001b[0m\u001b[0;34m(\u001b[0m\u001b[0mdf\u001b[0m\u001b[0;34m[\u001b[0m\u001b[0;34m\"weights\"\u001b[0m\u001b[0;34m]\u001b[0m\u001b[0;34m.\u001b[0m\u001b[0mloc\u001b[0m\u001b[0;34m[\u001b[0m\u001b[0mi\u001b[0m\u001b[0;34m]\u001b[0m\u001b[0;34m)\u001b[0m\u001b[0;34m\u001b[0m\u001b[0;34m\u001b[0m\u001b[0m\n\u001b[0m",
      "\u001b[0;32m<ipython-input-256-07450ea5fe62>\u001b[0m in \u001b[0;36mnumer_40\u001b[0;34m(txt)\u001b[0m\n\u001b[1;32m      8\u001b[0m \u001b[0;34m\u001b[0m\u001b[0m\n\u001b[1;32m      9\u001b[0m     \u001b[0;32mimport\u001b[0m \u001b[0mjson\u001b[0m\u001b[0;34m\u001b[0m\u001b[0;34m\u001b[0m\u001b[0m\n\u001b[0;32m---> 10\u001b[0;31m     \u001b[0mtxt\u001b[0m \u001b[0;34m=\u001b[0m \u001b[0mjson\u001b[0m\u001b[0;34m.\u001b[0m\u001b[0mloads\u001b[0m\u001b[0;34m(\u001b[0m\u001b[0mtxt\u001b[0m\u001b[0;34m)\u001b[0m\u001b[0;34m\u001b[0m\u001b[0;34m\u001b[0m\u001b[0m\n\u001b[0m\u001b[1;32m     11\u001b[0m \u001b[0;34m\u001b[0m\u001b[0m\n\u001b[1;32m     12\u001b[0m     \u001b[0;32mreturn\u001b[0m \u001b[0mtxt\u001b[0m\u001b[0;34m\u001b[0m\u001b[0;34m\u001b[0m\u001b[0m\n",
      "\u001b[0;32m/opt/conda/lib/python3.7/json/__init__.py\u001b[0m in \u001b[0;36mloads\u001b[0;34m(s, encoding, cls, object_hook, parse_float, parse_int, parse_constant, object_pairs_hook, **kw)\u001b[0m\n\u001b[1;32m    346\u001b[0m             \u001b[0mparse_int\u001b[0m \u001b[0;32mis\u001b[0m \u001b[0;32mNone\u001b[0m \u001b[0;32mand\u001b[0m \u001b[0mparse_float\u001b[0m \u001b[0;32mis\u001b[0m \u001b[0;32mNone\u001b[0m \u001b[0;32mand\u001b[0m\u001b[0;34m\u001b[0m\u001b[0;34m\u001b[0m\u001b[0m\n\u001b[1;32m    347\u001b[0m             parse_constant is None and object_pairs_hook is None and not kw):\n\u001b[0;32m--> 348\u001b[0;31m         \u001b[0;32mreturn\u001b[0m \u001b[0m_default_decoder\u001b[0m\u001b[0;34m.\u001b[0m\u001b[0mdecode\u001b[0m\u001b[0;34m(\u001b[0m\u001b[0ms\u001b[0m\u001b[0;34m)\u001b[0m\u001b[0;34m\u001b[0m\u001b[0;34m\u001b[0m\u001b[0m\n\u001b[0m\u001b[1;32m    349\u001b[0m     \u001b[0;32mif\u001b[0m \u001b[0mcls\u001b[0m \u001b[0;32mis\u001b[0m \u001b[0;32mNone\u001b[0m\u001b[0;34m:\u001b[0m\u001b[0;34m\u001b[0m\u001b[0;34m\u001b[0m\u001b[0m\n\u001b[1;32m    350\u001b[0m         \u001b[0mcls\u001b[0m \u001b[0;34m=\u001b[0m \u001b[0mJSONDecoder\u001b[0m\u001b[0;34m\u001b[0m\u001b[0;34m\u001b[0m\u001b[0m\n",
      "\u001b[0;32m/opt/conda/lib/python3.7/json/decoder.py\u001b[0m in \u001b[0;36mdecode\u001b[0;34m(self, s, _w)\u001b[0m\n\u001b[1;32m    335\u001b[0m \u001b[0;34m\u001b[0m\u001b[0m\n\u001b[1;32m    336\u001b[0m         \"\"\"\n\u001b[0;32m--> 337\u001b[0;31m         \u001b[0mobj\u001b[0m\u001b[0;34m,\u001b[0m \u001b[0mend\u001b[0m \u001b[0;34m=\u001b[0m \u001b[0mself\u001b[0m\u001b[0;34m.\u001b[0m\u001b[0mraw_decode\u001b[0m\u001b[0;34m(\u001b[0m\u001b[0ms\u001b[0m\u001b[0;34m,\u001b[0m \u001b[0midx\u001b[0m\u001b[0;34m=\u001b[0m\u001b[0m_w\u001b[0m\u001b[0;34m(\u001b[0m\u001b[0ms\u001b[0m\u001b[0;34m,\u001b[0m \u001b[0;36m0\u001b[0m\u001b[0;34m)\u001b[0m\u001b[0;34m.\u001b[0m\u001b[0mend\u001b[0m\u001b[0;34m(\u001b[0m\u001b[0;34m)\u001b[0m\u001b[0;34m)\u001b[0m\u001b[0;34m\u001b[0m\u001b[0;34m\u001b[0m\u001b[0m\n\u001b[0m\u001b[1;32m    338\u001b[0m         \u001b[0mend\u001b[0m \u001b[0;34m=\u001b[0m \u001b[0m_w\u001b[0m\u001b[0;34m(\u001b[0m\u001b[0ms\u001b[0m\u001b[0;34m,\u001b[0m \u001b[0mend\u001b[0m\u001b[0;34m)\u001b[0m\u001b[0;34m.\u001b[0m\u001b[0mend\u001b[0m\u001b[0;34m(\u001b[0m\u001b[0;34m)\u001b[0m\u001b[0;34m\u001b[0m\u001b[0;34m\u001b[0m\u001b[0m\n\u001b[1;32m    339\u001b[0m         \u001b[0;32mif\u001b[0m \u001b[0mend\u001b[0m \u001b[0;34m!=\u001b[0m \u001b[0mlen\u001b[0m\u001b[0;34m(\u001b[0m\u001b[0ms\u001b[0m\u001b[0;34m)\u001b[0m\u001b[0;34m:\u001b[0m\u001b[0;34m\u001b[0m\u001b[0;34m\u001b[0m\u001b[0m\n",
      "\u001b[0;32m/opt/conda/lib/python3.7/json/decoder.py\u001b[0m in \u001b[0;36mraw_decode\u001b[0;34m(self, s, idx)\u001b[0m\n\u001b[1;32m    351\u001b[0m         \"\"\"\n\u001b[1;32m    352\u001b[0m         \u001b[0;32mtry\u001b[0m\u001b[0;34m:\u001b[0m\u001b[0;34m\u001b[0m\u001b[0;34m\u001b[0m\u001b[0m\n\u001b[0;32m--> 353\u001b[0;31m             \u001b[0mobj\u001b[0m\u001b[0;34m,\u001b[0m \u001b[0mend\u001b[0m \u001b[0;34m=\u001b[0m \u001b[0mself\u001b[0m\u001b[0;34m.\u001b[0m\u001b[0mscan_once\u001b[0m\u001b[0;34m(\u001b[0m\u001b[0ms\u001b[0m\u001b[0;34m,\u001b[0m \u001b[0midx\u001b[0m\u001b[0;34m)\u001b[0m\u001b[0;34m\u001b[0m\u001b[0;34m\u001b[0m\u001b[0m\n\u001b[0m\u001b[1;32m    354\u001b[0m         \u001b[0;32mexcept\u001b[0m \u001b[0mStopIteration\u001b[0m \u001b[0;32mas\u001b[0m \u001b[0merr\u001b[0m\u001b[0;34m:\u001b[0m\u001b[0;34m\u001b[0m\u001b[0;34m\u001b[0m\u001b[0m\n\u001b[1;32m    355\u001b[0m             \u001b[0;32mraise\u001b[0m \u001b[0mJSONDecodeError\u001b[0m\u001b[0;34m(\u001b[0m\u001b[0;34m\"Expecting value\"\u001b[0m\u001b[0;34m,\u001b[0m \u001b[0ms\u001b[0m\u001b[0;34m,\u001b[0m \u001b[0merr\u001b[0m\u001b[0;34m.\u001b[0m\u001b[0mvalue\u001b[0m\u001b[0;34m)\u001b[0m \u001b[0;32mfrom\u001b[0m \u001b[0;32mNone\u001b[0m\u001b[0;34m\u001b[0m\u001b[0;34m\u001b[0m\u001b[0m\n",
      "\u001b[0;31mJSONDecodeError\u001b[0m: Expecting ',' delimiter: line 1 column 5 (char 4)"
     ]
    }
   ],
   "source": [
    "for i in range(len(df[\"weights\"])):\n",
    "    try:\n",
    "        df[\"weights\"].loc[i] = numer(df[\"weights\"].loc[i])\n",
    "    except:\n",
    "        try:\n",
    "            df[\"weights\"].loc[i] = numer_4(df[\"weights\"].loc[i])\n",
    "        except:\n",
    "            try:\n",
    "                df[\"weights\"].loc[i] = numer_40(df[\"weights\"].loc[i])\n",
    "            except:\n",
    "                df[\"weights\"].loc[i] = numer_400(df[\"weights\"].loc[i])"
   ]
  },
  {
   "cell_type": "code",
   "execution_count": null,
   "metadata": {},
   "outputs": [],
   "source": []
  },
  {
   "cell_type": "code",
   "execution_count": 335,
   "metadata": {},
   "outputs": [],
   "source": [
    "def numer_400(txt):    \n",
    "    txt = txt.replace(\"\\n\",\"\")\n",
    "    txt = txt.replace(\" \",\",\")\n",
    "    for i in range(3,10):\n",
    "        txt = txt.replace(i*\",\",\"\")\n",
    "    txt = txt[:-2] + \"]\"\n",
    "    txt = txt.replace(\".,\",\",\")\n",
    "    \n",
    "    txt = json.loads(txt)\n",
    "    return(txt)"
   ]
  },
  {
   "cell_type": "code",
   "execution_count": 343,
   "metadata": {},
   "outputs": [],
   "source": [
    "df = pd.read_csv(\"df_env_info.csv\", index_col=[0])\n",
    "for i in range(len(df[\"weights\"])):\n",
    "    try:\n",
    "        df[\"weights\"].loc[i] = numer(df[\"weights\"].loc[i])\n",
    "    except:\n",
    "        try:\n",
    "            df[\"weights\"].loc[i] = numer_4(df[\"weights\"].loc[i])\n",
    "        except:\n",
    "            try:\n",
    "                df[\"weights\"].loc[i] = numer_40(df[\"weights\"].loc[i])\n",
    "            except:\n",
    "                try:\n",
    "                    df[\"weights\"].loc[i] = numer_400(df[\"weights\"].loc[i])\n",
    "                except:\n",
    "                    pass\n",
    "                "
   ]
  },
  {
   "cell_type": "code",
   "execution_count": 349,
   "metadata": {},
   "outputs": [
    {
     "name": "stdout",
     "output_type": "stream",
     "text": [
      "133\n",
      "134\n",
      "135\n",
      "136\n",
      "137\n",
      "138\n",
      "139\n",
      "140\n"
     ]
    }
   ],
   "source": [
    "for i in range(len(df[\"weights\"])):\n",
    "    if type(df[\"weights\"].loc[i]) != list:\n",
    "        print(i)"
   ]
  },
  {
   "cell_type": "code",
   "execution_count": 350,
   "metadata": {},
   "outputs": [
    {
     "data": {
      "text/plain": [
       "133    NaN\n",
       "134    NaN\n",
       "135    NaN\n",
       "136    NaN\n",
       "137    NaN\n",
       "138    NaN\n",
       "139    NaN\n",
       "140    NaN\n",
       "Name: weights, dtype: object"
      ]
     },
     "execution_count": 350,
     "metadata": {},
     "output_type": "execute_result"
    }
   ],
   "source": [
    "df[\"weights\"][133:]"
   ]
  },
  {
   "cell_type": "code",
   "execution_count": 360,
   "metadata": {},
   "outputs": [
    {
     "data": {
      "text/plain": [
       "0      [0.0, 0.0, 0.0, 0.9995, 0.0, 0.0, 0.0, 0.0, 0....\n",
       "1      [0.0, 0.0, 0.0, 0.9998, 0.0, 0.0, 0.0, 0.0, 0....\n",
       "2      [0.0, 0.0, 0.0, 0.9999, 0.0, 0.0, 0.0, 0.0, 0....\n",
       "3      [0.0, 0.0, 0.0, 0.9999, 0.0, 0.0, 0.0, 0.0, 0....\n",
       "4      [0, 0, 0, 1, 0, 0, 0, 0, 0, 0, 0, 0, 0, 0, 0, ...\n",
       "                             ...                        \n",
       "128    [0.0, 0.0, 0.0, 0.5139, 0.0005, 0.0, 0.0, 0.0,...\n",
       "129    [0.0, 0.0, 0.0, 0.5096, 0.0005, 0.0, 0.0, 0.0,...\n",
       "130    [0.0, 0.0, 0.0, 0.505, 0.0004, 0.0, 0.0, 0.0, ...\n",
       "131    [0.0, 0.0, 0.0, 0.5014, 0.0004, 0.0, 0.0, 0.0,...\n",
       "132    [0.0, 0.0, 0.0, 0.4993, 0.0004, 0.0, 0.0, 0.0,...\n",
       "Name: weights, Length: 133, dtype: object"
      ]
     },
     "execution_count": 360,
     "metadata": {},
     "output_type": "execute_result"
    }
   ],
   "source": [
    "df[\"weights\"].loc[:132]"
   ]
  },
  {
   "cell_type": "code",
   "execution_count": 368,
   "metadata": {},
   "outputs": [
    {
     "data": {
      "text/plain": [
       "0      0.000000\n",
       "1     -0.083178\n",
       "2      0.085401\n",
       "3      0.083327\n",
       "4      0.054389\n",
       "         ...   \n",
       "128    0.004957\n",
       "129    0.004150\n",
       "130    0.040465\n",
       "131    0.023826\n",
       "132    0.008304\n",
       "Name: reward, Length: 133, dtype: float64"
      ]
     },
     "execution_count": 368,
     "metadata": {},
     "output_type": "execute_result"
    }
   ],
   "source": [
    "df[\"reward\"].loc[:132]"
   ]
  },
  {
   "cell_type": "code",
   "execution_count": 357,
   "metadata": {},
   "outputs": [],
   "source": [
    "## check the return"
   ]
  },
  {
   "cell_type": "code",
   "execution_count": 366,
   "metadata": {},
   "outputs": [],
   "source": [
    "df_price = pd.read_csv(\"data/Data_preprocessoing_v2.csv\", index_col = [0])"
   ]
  },
  {
   "cell_type": "code",
   "execution_count": 393,
   "metadata": {},
   "outputs": [],
   "source": [
    "s = df_price['Creat China Equity open'][1]/df_price['Creat China Equity open'][0]"
   ]
  },
  {
   "cell_type": "code",
   "execution_count": 394,
   "metadata": {},
   "outputs": [],
   "source": [
    "l = df_price['US Equity open'][1]/df_price['US Equity open'][0]"
   ]
  },
  {
   "cell_type": "code",
   "execution_count": 396,
   "metadata": {},
   "outputs": [
    {
     "data": {
      "text/plain": [
       "0.9960881982071409"
      ]
     },
     "execution_count": 396,
     "metadata": {},
     "output_type": "execute_result"
    }
   ],
   "source": [
    "s*0.9995 + l*(1-0.9995)####????"
   ]
  },
  {
   "cell_type": "code",
   "execution_count": 383,
   "metadata": {},
   "outputs": [
    {
     "data": {
      "text/plain": [
       "[0.0,\n",
       " 0.0,\n",
       " 0.0,\n",
       " 0.9995,\n",
       " 0.0,\n",
       " 0.0,\n",
       " 0.0,\n",
       " 0.0,\n",
       " 0.0,\n",
       " 0.0,\n",
       " 0.0,\n",
       " 0.0,\n",
       " 0.0,\n",
       " 0.0,\n",
       " 0.0,\n",
       " 0.0005,\n",
       " 0.0,\n",
       " 0.0,\n",
       " 0.0,\n",
       " 0.0,\n",
       " 0.0,\n",
       " 0.0,\n",
       " 0.0,\n",
       " 0.0,\n",
       " 0.0,\n",
       " 0.0,\n",
       " 0.0,\n",
       " 0.0,\n",
       " 0.0,\n",
       " 0.0,\n",
       " 0.0]"
      ]
     },
     "execution_count": 383,
     "metadata": {},
     "output_type": "execute_result"
    }
   ],
   "source": [
    "df[\"weights\"].loc[:132][0]"
   ]
  },
  {
   "cell_type": "code",
   "execution_count": 400,
   "metadata": {},
   "outputs": [
    {
     "name": "stdout",
     "output_type": "stream",
     "text": [
      "[0.0, 0.0, 0.0, 0.9995, 0.0, 0.0, 0.0, 0.0, 0.0, 0.0, 0.0, 0.0, 0.0, 0.0, 0.0, 0.0005, 0.0, 0.0, 0.0, 0.0, 0.0, 0.0, 0.0, 0.0, 0.0, 0.0, 0.0, 0.0, 0.0, 0.0, 0.0] -0.08317816601885686\n"
     ]
    }
   ],
   "source": [
    "print(df[\"weights\"][0], df[\"reward\"][1])"
   ]
  },
  {
   "cell_type": "code",
   "execution_count": 401,
   "metadata": {},
   "outputs": [
    {
     "data": {
      "text/plain": [
       "0      0.974811\n",
       "1      0.971014\n",
       "2      0.978341\n",
       "3      0.998905\n",
       "4      1.063331\n",
       "         ...   \n",
       "136    2.346332\n",
       "137    2.439274\n",
       "138    2.479009\n",
       "139    2.431525\n",
       "140    2.392318\n",
       "Name: Creat China Equity open, Length: 141, dtype: float64"
      ]
     },
     "execution_count": 401,
     "metadata": {},
     "output_type": "execute_result"
    }
   ],
   "source": [
    "df_price['Creat China Equity open']"
   ]
  },
  {
   "cell_type": "code",
   "execution_count": 402,
   "metadata": {},
   "outputs": [
    {
     "data": {
      "text/plain": [
       "0      0.000000\n",
       "1     -0.083178\n",
       "2      0.085401\n",
       "3      0.083327\n",
       "4      0.054389\n",
       "         ...   \n",
       "136         NaN\n",
       "137         NaN\n",
       "138         NaN\n",
       "139         NaN\n",
       "140         NaN\n",
       "Name: reward, Length: 141, dtype: float64"
      ]
     },
     "execution_count": 402,
     "metadata": {},
     "output_type": "execute_result"
    }
   ],
   "source": [
    "df[\"reward\"]"
   ]
  },
  {
   "cell_type": "code",
   "execution_count": 410,
   "metadata": {},
   "outputs": [
    {
     "data": {
      "text/plain": [
       "'[1.         1.00216207 1.0571946  1.0227945  1.02367174 1.11864087\\n 0.98541918 1.0412189  0.99118645 1.03129852 0.99400835 1.01211348\\n 0.9866569  1.04565056 0.99169399 1.01379838 1.00216207 1.0571946\\n 1.0227945  1.02367174 1.11864087 0.98541918 1.0412189  0.99118645\\n 1.03129852 0.99400835 1.01211348 0.9866569  1.04565056 0.99169399\\n 1.01379838]'"
      ]
     },
     "execution_count": 410,
     "metadata": {},
     "output_type": "execute_result"
    }
   ],
   "source": [
    "df[\"price_change\"][0]"
   ]
  },
  {
   "cell_type": "code",
   "execution_count": 449,
   "metadata": {},
   "outputs": [
    {
     "data": {
      "text/plain": [
       "0      [1.         1.00216207 1.0571946  1.0227945  1...\n",
       "1      [1.         0.9867775  0.96640816 0.92016075 0...\n",
       "2      [1.         1.00905055 1.04609173 1.0891625  1...\n",
       "3      [1.         1.01729683 1.07116863 1.08690678 1...\n",
       "4      [1.         1.02239295 1.06448956 1.05589565 1...\n",
       "                             ...                        \n",
       "129    [1.         1.02228348 1.02097956 1.01314659 1...\n",
       "130    [1.         1.02010806 1.04745961 1.03595446 1...\n",
       "131    [1.         1.00399498 1.01000018 1.03961185 1...\n",
       "132    [1.         1.00639743 1.01482169 1.0162894  1...\n",
       "133                                                  NaN\n",
       "Name: price_change, Length: 134, dtype: object"
      ]
     },
     "execution_count": 449,
     "metadata": {},
     "output_type": "execute_result"
    }
   ],
   "source": [
    "df[\"price_change\"][:134]\n"
   ]
  },
  {
   "cell_type": "code",
   "execution_count": 461,
   "metadata": {},
   "outputs": [
    {
     "name": "stdout",
     "output_type": "stream",
     "text": [
      "1.0063974252587164\n"
     ]
    }
   ],
   "source": [
    "print(df_price['Asia Bond open'][138]/df_price['Asia Bond open'][137])"
   ]
  },
  {
   "cell_type": "code",
   "execution_count": 460,
   "metadata": {},
   "outputs": [
    {
     "data": {
      "text/plain": [
       "0      0.000000\n",
       "1     -0.083178\n",
       "2      0.085401\n",
       "3      0.083327\n",
       "4      0.054389\n",
       "         ...   \n",
       "129    0.004150\n",
       "130    0.040465\n",
       "131    0.023826\n",
       "132    0.008304\n",
       "133         NaN\n",
       "Name: reward, Length: 134, dtype: float64"
      ]
     },
     "execution_count": 460,
     "metadata": {},
     "output_type": "execute_result"
    }
   ],
   "source": [
    "df[\"reward\"][:134]"
   ]
  },
  {
   "cell_type": "code",
   "execution_count": 441,
   "metadata": {},
   "outputs": [
    {
     "data": {
      "text/plain": [
       "0      [0.0, 0.0, 0.0, 0.9995, 0.0, 0.0, 0.0, 0.0, 0....\n",
       "1      [0.0, 0.0, 0.0, 0.9998, 0.0, 0.0, 0.0, 0.0, 0....\n",
       "2      [0.0, 0.0, 0.0, 0.9999, 0.0, 0.0, 0.0, 0.0, 0....\n",
       "3      [0.0, 0.0, 0.0, 0.9999, 0.0, 0.0, 0.0, 0.0, 0....\n",
       "4      [0, 0, 0, 1, 0, 0, 0, 0, 0, 0, 0, 0, 0, 0, 0, ...\n",
       "                             ...                        \n",
       "129    [0.0, 0.0, 0.0, 0.5096, 0.0005, 0.0, 0.0, 0.0,...\n",
       "130    [0.0, 0.0, 0.0, 0.505, 0.0004, 0.0, 0.0, 0.0, ...\n",
       "131    [0.0, 0.0, 0.0, 0.5014, 0.0004, 0.0, 0.0, 0.0,...\n",
       "132    [0.0, 0.0, 0.0, 0.4993, 0.0004, 0.0, 0.0, 0.0,...\n",
       "133                                                  NaN\n",
       "Name: weights, Length: 134, dtype: object"
      ]
     },
     "execution_count": 441,
     "metadata": {},
     "output_type": "execute_result"
    }
   ],
   "source": [
    "df[\"weights\"][:134]"
   ]
  },
  {
   "cell_type": "code",
   "execution_count": 455,
   "metadata": {},
   "outputs": [
    {
     "data": {
      "text/plain": [
       "1.022794504606185"
      ]
     },
     "execution_count": 455,
     "metadata": {},
     "output_type": "execute_result"
    }
   ],
   "source": [
    "df_price['Creat China Equity open'][6]/df_price['Creat China Equity open'][5]"
   ]
  },
  {
   "cell_type": "code",
   "execution_count": 456,
   "metadata": {},
   "outputs": [
    {
     "data": {
      "text/plain": [
       "1.0491937347013949"
      ]
     },
     "execution_count": 456,
     "metadata": {},
     "output_type": "execute_result"
    }
   ],
   "source": [
    "df_price['Creat China Equity open'][6] *0.9995"
   ]
  },
  {
   "cell_type": "code",
   "execution_count": 458,
   "metadata": {},
   "outputs": [
    {
     "data": {
      "text/plain": [
       "1.0258108837858633"
      ]
     },
     "execution_count": 458,
     "metadata": {},
     "output_type": "execute_result"
    }
   ],
   "source": [
    "df_price['Creat China Equity open'][5]"
   ]
  },
  {
   "cell_type": "code",
   "execution_count": 466,
   "metadata": {},
   "outputs": [
    {
     "data": {
      "text/plain": [
       "[0,\n",
       " 0,\n",
       " 0,\n",
       " 0,\n",
       " 0,\n",
       " 0,\n",
       " 0,\n",
       " 0,\n",
       " 0,\n",
       " 0,\n",
       " 0,\n",
       " 0,\n",
       " 0,\n",
       " 0,\n",
       " 0,\n",
       " 0,\n",
       " 0,\n",
       " 0,\n",
       " 0,\n",
       " 0,\n",
       " 0,\n",
       " 0,\n",
       " 0,\n",
       " 0.9999,\n",
       " 0,\n",
       " 0,\n",
       " 0,\n",
       " 0,\n",
       " 0,\n",
       " 0,\n",
       " 0]"
      ]
     },
     "execution_count": 466,
     "metadata": {},
     "output_type": "execute_result"
    }
   ],
   "source": [
    "df[\"weights\"][40]"
   ]
  },
  {
   "cell_type": "code",
   "execution_count": null,
   "metadata": {},
   "outputs": [],
   "source": []
  }
 ],
 "metadata": {
  "kernelspec": {
   "display_name": "Python 3",
   "language": "python",
   "name": "python3"
  },
  "language_info": {
   "codemirror_mode": {
    "name": "ipython",
    "version": 3
   },
   "file_extension": ".py",
   "mimetype": "text/x-python",
   "name": "python",
   "nbconvert_exporter": "python",
   "pygments_lexer": "ipython3",
   "version": "3.7.4"
  }
 },
 "nbformat": 4,
 "nbformat_minor": 4
}
