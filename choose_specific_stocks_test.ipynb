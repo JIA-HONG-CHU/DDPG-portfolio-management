{
 "cells": [
  {
   "cell_type": "code",
   "execution_count": 1,
   "metadata": {},
   "outputs": [],
   "source": [
    "import numpy as np\n",
    "import pandas as pd"
   ]
  },
  {
   "cell_type": "code",
   "execution_count": 2,
   "metadata": {},
   "outputs": [],
   "source": [
    "df = pd.read_csv(\"./data/raw_data_test.csv\")"
   ]
  },
  {
   "cell_type": "code",
   "execution_count": 3,
   "metadata": {},
   "outputs": [],
   "source": [
    "Market_MR = pd.pivot_table(df, values=\"RET1M\",index=['DATAYM'],columns=['BNPNAME'],aggfunc=np.nanmax) #Market Maximum Return"
   ]
  },
  {
   "cell_type": "code",
   "execution_count": 4,
   "metadata": {},
   "outputs": [
    {
     "data": {
      "text/plain": [
       "Index(['Asia Bond', 'Asia Equity', 'Creat China Equity', 'EmgMkt Bond',\n",
       "       'EmgMkt Equity', 'Europe Bond', 'Europe Equity', 'Global Bond',\n",
       "       'Global Equity', 'HY Bond', 'Multi Asset', 'Other Bond', 'Other Equity',\n",
       "       'US Bond', 'US Equity'],\n",
       "      dtype='object', name='BNPNAME')"
      ]
     },
     "execution_count": 4,
     "metadata": {},
     "output_type": "execute_result"
    }
   ],
   "source": [
    "Market_MR.columns"
   ]
  },
  {
   "cell_type": "code",
   "execution_count": 5,
   "metadata": {},
   "outputs": [],
   "source": [
    "df1 = df[df[\"DATAYM\"] == \"2017-01-01\"]"
   ]
  },
  {
   "cell_type": "code",
   "execution_count": 6,
   "metadata": {},
   "outputs": [],
   "source": [
    "#Test\n",
    "elected = list()\n",
    "for i in range(len(Market_MR.columns)):\n",
    "    candidates = df1[df1[\"BNPNAME\"] == Market_MR.columns[i]][\"PERFORMANCEID\"]\n",
    "    candidates = list(candidates)\n",
    "    random_index = np.random.randint(0,len(candidates))\n",
    "    elected.append(candidates[random_index])"
   ]
  },
  {
   "cell_type": "code",
   "execution_count": 7,
   "metadata": {},
   "outputs": [
    {
     "data": {
      "text/plain": [
       "['0P0000A4VP',\n",
       " '0P00013BNE',\n",
       " '0P0000NBI8',\n",
       " '0P0000N688',\n",
       " '0P00000ANT',\n",
       " '0P0000CO5T',\n",
       " '0P0000F2YG',\n",
       " '0P00000ZE0',\n",
       " '0P0001958Z',\n",
       " '0P0000T1CI',\n",
       " '0P00006AAJ',\n",
       " '0P00006AKY',\n",
       " '0P0000Z2DP',\n",
       " '0P0000RWON',\n",
       " '0P0000ZWDV']"
      ]
     },
     "execution_count": 7,
     "metadata": {},
     "output_type": "execute_result"
    }
   ],
   "source": [
    "elected"
   ]
  }
 ],
 "metadata": {
  "kernelspec": {
   "display_name": "Python 3",
   "language": "python",
   "name": "python3"
  },
  "language_info": {
   "codemirror_mode": {
    "name": "ipython",
    "version": 3
   },
   "file_extension": ".py",
   "mimetype": "text/x-python",
   "name": "python",
   "nbconvert_exporter": "python",
   "pygments_lexer": "ipython3",
   "version": "3.7.6"
  }
 },
 "nbformat": 4,
 "nbformat_minor": 4
}
